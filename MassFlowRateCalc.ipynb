{
 "cells": [
  {
   "cell_type": "code",
   "execution_count": null,
   "id": "414a71b1",
   "metadata": {},
   "outputs": [],
   "source": [
    "# This program can calculate the inlet/outlet of a liquid that will suffer \n",
    "# the process of concentration through evaporation.\n",
    "\n",
    "# The user should enter the soluble solids content of the inlet, the mass flow rate of water \n",
    "# removed by evaporation, and the soluble solids content of the final concentrated outlet product."
   ]
  },
  {
   "cell_type": "code",
   "execution_count": 31,
   "id": "97d7b811",
   "metadata": {},
   "outputs": [],
   "source": [
    "# CLASSES AND FUNCTIONS:\n",
    "\n",
    "class MassFlow:\n",
    "    # m = mass flow rate in kg/h\n",
    "    # xs = mass fraction of soluble solids in decimals, xw = mass fraction of water in decimals\n",
    "    def __init__(self, m, xs, xw):\n",
    "        self.m = m\n",
    "        self.xs = xs\n",
    "        self.xw = xw\n",
    "    \n",
    "def getInXS():\n",
    "    x = 0\n",
    "    # I did choose the lower and upper limit for the initial soluble solids content.\n",
    "    while x < 0.10 or x > 0.25:\n",
    "        try:\n",
    "            x = float(input('Please insert the initial soluble solids content, ranging from 0.10 to 0.25! \\nYour entry: '))\n",
    "        except:\n",
    "            print('Please insert a valid value')\n",
    "#         if x < 0.10 or x > 0.25:\n",
    "#             print('You did enter a value outside of the range, please tye again!')\n",
    "    return x"
   ]
  },
  {
   "cell_type": "code",
   "execution_count": 34,
   "id": "8c6adba4",
   "metadata": {},
   "outputs": [
    {
     "name": "stdout",
     "output_type": "stream",
     "text": [
      "Please insert the initial soluble solids content, ranging from 0.10 to 0.25! \n",
      "Your entry: 0.175\n"
     ]
    }
   ],
   "source": [
    "inlet = 0\n",
    "\n",
    "inlet = MassFlow(0, getInXS(), 0)\n",
    "inlet.xw = 1 - inlet.xs"
   ]
  },
  {
   "cell_type": "code",
   "execution_count": null,
   "id": "dd8f9604",
   "metadata": {},
   "outputs": [],
   "source": []
  }
 ],
 "metadata": {
  "kernelspec": {
   "display_name": "Python 3 (ipykernel)",
   "language": "python",
   "name": "python3"
  },
  "language_info": {
   "codemirror_mode": {
    "name": "ipython",
    "version": 3
   },
   "file_extension": ".py",
   "mimetype": "text/x-python",
   "name": "python",
   "nbconvert_exporter": "python",
   "pygments_lexer": "ipython3",
   "version": "3.9.7"
  }
 },
 "nbformat": 4,
 "nbformat_minor": 5
}
