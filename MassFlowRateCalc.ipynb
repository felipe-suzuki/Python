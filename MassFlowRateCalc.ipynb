{
 "cells": [
  {
   "cell_type": "code",
   "execution_count": null,
   "id": "c057eb21",
   "metadata": {},
   "outputs": [],
   "source": [
    "# This program can calculate the inlet/outlet of a liquid that will suffer \n",
    "# the process of concentration through evaporation.\n",
    "\n",
    "# The user should enter the soluble solids content of the inlet, the mass flow rate of water \n",
    "# removed by evaporation, and the soluble solids content of the final concentrated outlet product."
   ]
  },
  {
   "cell_type": "code",
   "execution_count": 49,
   "id": "1235c0d6",
   "metadata": {},
   "outputs": [],
   "source": [
    "# CLASSES AND FUNCTIONS:\n",
    "\n",
    "class MassFlow:\n",
    "    # m = mass flow rate in kg/h\n",
    "    # xs = mass fraction of soluble solids in decimals, xw = mass fraction of water in decimals\n",
    "    def __init__(self, m, xs, xw):\n",
    "        self.m = m\n",
    "        self.xs = xs\n",
    "        self.xw = xw\n",
    "    \n",
    "def getInXS():\n",
    "    x = 0\n",
    "    # I did choose the lower and upper limit for the initial soluble solids content.\n",
    "    while x < 0.10 or x > 0.25:\n",
    "        try:\n",
    "            x = float(input('Please insert the initial soluble solids content, ranging from 0.10 to 0.25! \\nYour entry: '))\n",
    "        except:\n",
    "            print('Please insert a valid value')\n",
    "    return x\n",
    "\n",
    "def getOutXS():\n",
    "    y = 0\n",
    "    # I did choose the lower and upper limit for the final soluble solids content.\n",
    "    while y < 0.25 or x > 0.65:\n",
    "        try:\n",
    "            y = float(input('Please insert the final soluble solids content, ranging from 0.25 to 0.65! \\nYour entry: '))\n",
    "        except:\n",
    "            print('Please insert a valid value')\n",
    "    return y\n",
    "\n",
    "def get_mWater():\n",
    "    z = 0\n",
    "    while z <= 0:\n",
    "        try:\n",
    "            z = float(input('Please insert the mass flow rate (kg/h) of the water removed by evaporation. \\nYour entry: '))\n",
    "        except:\n",
    "            print('Please insert a valid value')\n",
    "    return z"
   ]
  },
  {
   "cell_type": "code",
   "execution_count": 38,
   "id": "722d8cd6",
   "metadata": {},
   "outputs": [
    {
     "name": "stdout",
     "output_type": "stream",
     "text": [
      "Please insert the initial soluble solids content, ranging from 0.10 to 0.25! \n",
      "Your entry: 0.13\n"
     ]
    }
   ],
   "source": [
    "inlet = 0\n",
    "\n",
    "inlet = MassFlow(0, getInXS(), 0)\n",
    "inlet.xw = 1 - inlet.xs"
   ]
  },
  {
   "cell_type": "code",
   "execution_count": 39,
   "id": "d21ca27d",
   "metadata": {},
   "outputs": [
    {
     "name": "stdout",
     "output_type": "stream",
     "text": [
      "Please insert the final soluble solids content, ranging from 0.25 to 0.65! \n",
      "Your entry: 0.13\n",
      "Please insert the final soluble solids content, ranging from 0.25 to 0.65! \n",
      "Your entry: 0.30\n"
     ]
    }
   ],
   "source": [
    "outlet = 0\n",
    "\n",
    "oulet = MassFlow(0, getOutXS(), 0)\n",
    "oulet.xw = 1 - oulet.xs"
   ]
  },
  {
   "cell_type": "code",
   "execution_count": 50,
   "id": "bb43a3cd",
   "metadata": {},
   "outputs": [
    {
     "name": "stdout",
     "output_type": "stream",
     "text": [
      "Please insert the mass flow rate (kg/h) of the water removed by evaporation. \n",
      "Your entry: 0\n",
      "Please insert the mass flow rate (kg/h) of the water removed by evaporation. \n",
      "Your entry: -1\n",
      "Please insert the mass flow rate (kg/h) of the water removed by evaporation. \n",
      "Your entry: 10.2\n"
     ]
    }
   ],
   "source": [
    "mw = 0\n",
    "\n",
    "mw = MassFlow(get_mWater(), 0, 1)"
   ]
  },
  {
   "cell_type": "code",
   "execution_count": null,
   "id": "f09ec268",
   "metadata": {},
   "outputs": [],
   "source": []
  }
 ],
 "metadata": {
  "kernelspec": {
   "display_name": "Python 3 (ipykernel)",
   "language": "python",
   "name": "python3"
  },
  "language_info": {
   "codemirror_mode": {
    "name": "ipython",
    "version": 3
   },
   "file_extension": ".py",
   "mimetype": "text/x-python",
   "name": "python",
   "nbconvert_exporter": "python",
   "pygments_lexer": "ipython3",
   "version": "3.9.7"
  }
 },
 "nbformat": 4,
 "nbformat_minor": 5
}
