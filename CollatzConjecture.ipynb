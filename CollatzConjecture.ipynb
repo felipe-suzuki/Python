{
 "cells": [
  {
   "cell_type": "code",
   "execution_count": 1,
   "id": "57e2d681",
   "metadata": {},
   "outputs": [
    {
     "name": "stdout",
     "output_type": "stream",
     "text": [
      "\n",
      "Please insert an intenger number: 9101\n",
      "\n",
      "The total number of steps to get to 1 is 21\n",
      "\n",
      "Press any key to exit\n"
     ]
    },
    {
     "data": {
      "text/plain": [
       "''"
      ]
     },
     "execution_count": 1,
     "metadata": {},
     "output_type": "execute_result"
    }
   ],
   "source": [
    "#Collatz Conjecture: Start with a number n > 1. Find the number of steps it takes to reach one\n",
    "#using the following process: If n is even, divide it by 2. If n is odd, multiply it by 3 and add 1.\n",
    "\n",
    "x = 0\n",
    "count = 0\n",
    "\n",
    "while x <=1 and x is not int:\n",
    "    try:\n",
    "        x = int(input('\\nPlease insert an intenger number: '))\n",
    "    except:\n",
    "        print('Please insert a valid integer number')\n",
    "    \n",
    "while x != 1:\n",
    "    if x%2 == 0:    \n",
    "        x = x/2\n",
    "        count += 1\n",
    "    else:  \n",
    "        x = (x*3)+1\n",
    "        count += 1\n",
    "\n",
    "print('\\nThe total number of steps to get to 1 is',count)\n",
    "input('\\nPress any key to exit')"
   ]
  }
 ],
 "metadata": {
  "kernelspec": {
   "display_name": "Python 3 (ipykernel)",
   "language": "python",
   "name": "python3"
  },
  "language_info": {
   "codemirror_mode": {
    "name": "ipython",
    "version": 3
   },
   "file_extension": ".py",
   "mimetype": "text/x-python",
   "name": "python",
   "nbconvert_exporter": "python",
   "pygments_lexer": "ipython3",
   "version": "3.9.7"
  }
 },
 "nbformat": 4,
 "nbformat_minor": 5
}
