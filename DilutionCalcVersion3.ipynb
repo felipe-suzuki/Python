{
 "cells": [
  {
   "cell_type": "code",
   "execution_count": null,
   "id": "a6666175",
   "metadata": {},
   "outputs": [],
   "source": [
    "# I just started to write the program with classes, which will display a lot of improvement from the previous version 2.\n",
    "# I will be uploading changes and progress ASAP. Thank you!"
   ]
  },
  {
   "cell_type": "code",
   "execution_count": null,
   "id": "a077b382",
   "metadata": {},
   "outputs": [],
   "source": [
    "class Concentration:\n",
    "    \n",
    "    def __init__(self, value, m, V):\n",
    "        self.value = value\n",
    "        self.m = m\n",
    "        self.V = V"
   ]
  },
  {
   "cell_type": "code",
   "execution_count": null,
   "id": "60d6c901",
   "metadata": {},
   "outputs": [],
   "source": [
    "c1 = Concentration(\n",
    "    float(input('Please, insert the initial concentration: ')),\n",
    "    int(input('Please choose an option for the mass unit of the initial concentration: \\n1-g    2-mg    3-ug    4-ng\\nYour entry: ')),\n",
    "    int(input('Please choose an option for the volume unit of the initial concentration: \\n1-L    2-mL    3-uL    4-nL\\nYour entry: '))\n",
    ")"
   ]
  },
  {
   "cell_type": "code",
   "execution_count": null,
   "id": "68a7d890",
   "metadata": {},
   "outputs": [],
   "source": [
    "# Test\n",
    "print (c1.value, c1.m, c1.V)"
   ]
  },
  {
   "cell_type": "code",
   "execution_count": null,
   "id": "22e71627",
   "metadata": {},
   "outputs": [],
   "source": [
    "class Volume:\n",
    "    \n",
    "    def __init__(self, value, V):\n",
    "        self.value = value\n",
    "        self.V = V"
   ]
  },
  {
   "cell_type": "code",
   "execution_count": null,
   "id": "60c57bbc",
   "metadata": {},
   "outputs": [],
   "source": [
    "v1 = Volume(\n",
    "    float(input('Please, insert the initial volume: ')),\n",
    "    int(input('Please choose an option for the volume unit of the initial solution: \\n1-L    2-mL    3-uL    4-nL\\nYour entry: '))\n",
    ")"
   ]
  },
  {
   "cell_type": "code",
   "execution_count": null,
   "id": "f92c7e91",
   "metadata": {},
   "outputs": [],
   "source": [
    "# Test\n",
    "print (v1.value, v1.V)"
   ]
  }
 ],
 "metadata": {
  "kernelspec": {
   "display_name": "Python 3 (ipykernel)",
   "language": "python",
   "name": "python3"
  },
  "language_info": {
   "codemirror_mode": {
    "name": "ipython",
    "version": 3
   },
   "file_extension": ".py",
   "mimetype": "text/x-python",
   "name": "python",
   "nbconvert_exporter": "python",
   "pygments_lexer": "ipython3",
   "version": "3.9.7"
  }
 },
 "nbformat": 4,
 "nbformat_minor": 5
}
