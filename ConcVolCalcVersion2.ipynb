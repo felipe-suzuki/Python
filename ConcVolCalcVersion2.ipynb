{
 "cells": [
  {
   "cell_type": "code",
   "execution_count": 78,
   "id": "8e4a23f0",
   "metadata": {},
   "outputs": [],
   "source": [
    "# Declaring all the variables\n",
    "global term, c2, v2, c1, v1, mass_c_unit, vol_c_unit, v_unit, mass_units, vol_units, unit_index\n",
    "\n",
    "term, c2, v2, c1, v1, mass_c_unit, vol_c_unit, v_unit, unit_index = (0,0,0,0,0,({1:0, 2:0}),({1:0, 2:0}),({1:0, 2:0}),0)\n",
    "mass_units = {1:(10**0, 'g'), 2:(10**-3, 'mg'), 3:(10**-6, 'ug'), 4:(10**-9, 'ng')}\n",
    "vol_units = uv = {1:(10**0, 'L'), 2:(10**-3, 'mL'), 3:(10**-6, 'uL'), 4:(10**-9, 'nL')}\n",
    "\n",
    "# Function to get the term that the user wants to calculate (C1 or V1)\n",
    "def enter_c1_v1(entry):\n",
    "    while entry!='c1' and entry!='v1':\n",
    "        print('Given the formula C1.V1 = C2.V2, please choose C1 or V1 to be calculated.')\n",
    "        entry = input('Insert C1 or V1: ').lower()\n",
    "    return entry\n",
    "\n",
    "# Function to enter the concentration of the solution\n",
    "def in_conc(conc, final_init, sol_num):\n",
    "    while type(conc) != float and conc == 0:\n",
    "        conc = float(input('Please, insert the Concentration of the {} Solution {}: '.format(final_init, sol_num )))\n",
    "    return conc\n",
    "\n",
    "# Function to enter the unit of mass of the solution concentration  \n",
    "def in_mc_unit(unit, final_init, sol_num):\n",
    "    while unit not in range(1,5):\n",
    "        unit = int(input('For the Mass unit of the Concentration of the {} Solution {}, \\\n",
    "please choose the number for the respective unit: \\n 1-g    2-mg    3-ug    4-ng \\n Your entry: '.format(final_init, sol_num)))\n",
    "    return unit\n",
    "\n",
    "# Function to enter the unit of volume of the solution concentration \n",
    "def in_vc_unit(unit, final_init, sol_num):\n",
    "    while unit not in range(1,5):\n",
    "        unit = int(input('For the Volume unit of the Concentration of the {} Solution {}, \\\n",
    "please choose the number for the respective unit: \\n 1-L    2-mL    3-uL    4-nL \\n Your entry: '.format(final_init, sol_num)))\n",
    "    return unit\n",
    "\n",
    "# Function to enter the volume of the solution\n",
    "def in_vol(vol, final_init, sol_num):\n",
    "    while type(vol) != float:\n",
    "        vol = float(input('Please, insert the Volume of the {} Solution {}: '.format(final_init, sol_num)))\n",
    "    return vol\n",
    "\n",
    "# Function to enter the unit of volume of the solution\n",
    "def in_v_unit(unit, final_init, sol_num):\n",
    "    while unit not in range(1,5):\n",
    "        unit = int(input('For the Volume unit of the {} Solution {}, \\\n",
    "please choose the number for the respective unit: \\n 1-L    2-mL    3-uL    4-nL \\n Your entry: '.format(final_init, sol_num)))\n",
    "    return unit\n",
    "\n",
    "# Function to calculate the term c1\n",
    "def calc_c1(c1):\n",
    "    c1 = ((c2*((mass_c_unit[2][1])/(vol_c_unit[2][1])))*(v2*v_unit[2][1]))/(v1*v_unit[1][1])\n",
    "    return c1\n",
    "\n",
    "# Function to calculate the term v1\n",
    "def calc_v1(v1):\n",
    "    v1 = ((c2*((mass_c_unit[2][1])/(vol_c_unit[2][1])))*(v2*v_unit[2][1]))/(c1*((mass_c_unit[1][1])/(vol_c_unit[1][1])))\n",
    "    return v1"
   ]
  },
  {
   "cell_type": "code",
   "execution_count": 79,
   "id": "b9e14c79",
   "metadata": {},
   "outputs": [
    {
     "name": "stdout",
     "output_type": "stream",
     "text": [
      "Given the formula C1.V1 = C2.V2, please choose C1 or V1 to be calculated.\n",
      "Insert C1 or V1: c1\n",
      "Please, insert the Volume of the Final Solution 2: 1\n",
      "Please, insert the Concentration of the Final Solution 2: 2\n",
      "For the Mass unit of the Concentration of the Final Solution 2, please choose the number for the respective unit: \n",
      " 1-g    2-mg    3-ug    4-ng \n",
      " Your entry: 3\n",
      "For the Volume unit of the Concentration of the Final Solution 2, please choose the number for the respective unit: \n",
      " 1-L    2-mL    3-uL    4-nL \n",
      " Your entry: 4\n",
      "Please, insert the Volume of the Initial Solution 1: 1\n"
     ]
    }
   ],
   "source": [
    "term = enter_c1_v1(term)\n",
    "\n",
    "if term == 'c1':\n",
    "    v2 = in_vol(v2, 'Final', '2')\n",
    "    \n",
    "    c2 = in_conc(c2, 'Final', '2')\n",
    "    mass_c_unit[2] = mass_units[in_mc_unit(unit_index, 'Final', '2')]\n",
    "    vol_c_unit[2] = mass_units[in_vc_unit(unit_index, 'Final', '2')]\n",
    "    v1 = in_vol(v1, 'Initial', '1')\n",
    "    "
   ]
  },
  {
   "cell_type": "code",
   "execution_count": 65,
   "id": "07149879",
   "metadata": {},
   "outputs": [
    {
     "name": "stdout",
     "output_type": "stream",
     "text": [
      "For the Mass unit of the Concentration of the Final Solution 2, please choose the number for the respective unit: \n",
      " 1-g    2-mg    3-ug    4-ng \n",
      " Your entry: 5\n",
      "For the Mass unit of the Concentration of the Final Solution 2, please choose the number for the respective unit: \n",
      " 1-g    2-mg    3-ug    4-ng \n",
      " Your entry: 4\n"
     ]
    }
   ],
   "source": [
    "mass_c_unit[2] = mass_units[in_mc_unit(unit_index, 'Final', '2')]"
   ]
  },
  {
   "cell_type": "code",
   "execution_count": 75,
   "id": "8ca6a898",
   "metadata": {},
   "outputs": [
    {
     "data": {
      "text/plain": [
       "(0.001, 'mg')"
      ]
     },
     "execution_count": 75,
     "metadata": {},
     "output_type": "execute_result"
    }
   ],
   "source": [
    "mass_c_unit[2]"
   ]
  },
  {
   "cell_type": "code",
   "execution_count": 76,
   "id": "faecb959",
   "metadata": {},
   "outputs": [
    {
     "data": {
      "text/plain": [
       "(1e-06, 'ug')"
      ]
     },
     "execution_count": 76,
     "metadata": {},
     "output_type": "execute_result"
    }
   ],
   "source": [
    "vol_c_unit[2]"
   ]
  },
  {
   "cell_type": "code",
   "execution_count": null,
   "id": "ea903d3b",
   "metadata": {},
   "outputs": [],
   "source": []
  }
 ],
 "metadata": {
  "kernelspec": {
   "display_name": "Python 3 (ipykernel)",
   "language": "python",
   "name": "python3"
  },
  "language_info": {
   "codemirror_mode": {
    "name": "ipython",
    "version": 3
   },
   "file_extension": ".py",
   "mimetype": "text/x-python",
   "name": "python",
   "nbconvert_exporter": "python",
   "pygments_lexer": "ipython3",
   "version": "3.9.7"
  }
 },
 "nbformat": 4,
 "nbformat_minor": 5
}
