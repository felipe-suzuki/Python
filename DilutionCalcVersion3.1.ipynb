{
 "cells": [
  {
   "cell_type": "code",
   "execution_count": null,
   "id": "998cc8ad",
   "metadata": {},
   "outputs": [],
   "source": [
    "# I just started to write the program with classes, which will display a lot of improvement from the previous version 2.\n",
    "# I will be uploading changes and progress ASAP. Thank you!"
   ]
  },
  {
   "cell_type": "code",
   "execution_count": 48,
   "id": "a077b382",
   "metadata": {},
   "outputs": [],
   "source": [
    "m_unit = {1:(10**0, 'g'), 2:(10**-3, 'mg'), 3:(10**-6, '\\u03BCg'), 4:(10**-9, 'ng')}\n",
    "V_unit = {1:(10**0, 'L'), 2:(10**-3, 'mL'), 3:(10**-6, '\\u03BCL'), 4:(10**-9, 'nL')}\n",
    "\n",
    "class Concentration:\n",
    "    \n",
    "    def __init__(self, value, m, V):\n",
    "        self.value = value         \n",
    "        self.m = m\n",
    "        self.V = V\n",
    "\n",
    "class Volume:\n",
    "    \n",
    "    def __init__(self, value, V):\n",
    "        self.value = value\n",
    "        self.V = V\n",
    "\n",
    "def calc_dilution():\n",
    "    v2 = ((c1.value*((c1.m[0])/(c1.V[0])))*(v1.value*v1.V[0]))/(c2.value*((c2.m[0])/(c2.V[0])))\n",
    "    return v2\n",
    "\n",
    "def answer():\n",
    "    print(\"To dilute a solution with the initial concentration of {} {}/{} to the final concentration of {} {}/{} \\\n",
    "you must add water to a final volume of {} L\".format(c1.value, c1.m[1], c1.V[1], c2.value, c2.m[1], c2.V[1], v2))\n",
    "    \n",
    "def run_again():\n",
    "    \n",
    "    return input('Do you want to calculate again? Enter Yes or No: ').lower().startswith('y')"
   ]
  }
 ],
 "metadata": {
  "kernelspec": {
   "display_name": "Python 3 (ipykernel)",
   "language": "python",
   "name": "python3"
  },
  "language_info": {
   "codemirror_mode": {
    "name": "ipython",
    "version": 3
   },
   "file_extension": ".py",
   "mimetype": "text/x-python",
   "name": "python",
   "nbconvert_exporter": "python",
   "pygments_lexer": "ipython3",
   "version": "3.9.7"
  }
 },
 "nbformat": 4,
 "nbformat_minor": 5
}
